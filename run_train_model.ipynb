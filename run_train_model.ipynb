{
 "nbformat": 4,
 "nbformat_minor": 0,
 "metadata": {
  "colab": {
   "name": "run_train_model.ipynb",
   "provenance": [],
   "collapsed_sections": []
  },
  "kernelspec": {
   "name": "python3",
   "display_name": "Python 3"
  },
  "language_info": {
   "name": "python"
  },
  "accelerator": "GPU",
  "gpuClass": "standard"
 },
 "cells": [
  {
   "cell_type": "code",
   "execution_count": null,
   "outputs": [],
   "source": [
    "!pip --quiet install huggingface_hub"
   ],
   "metadata": {
    "collapsed": false,
    "pycharm": {
     "name": "#%%\n"
    }
   }
  },
  {
   "cell_type": "code",
   "execution_count": null,
   "outputs": [],
   "source": [
    "!huggingface-cli login"
   ],
   "metadata": {
    "collapsed": false,
    "pycharm": {
     "name": "#%%\n"
    }
   }
  },
  {
   "cell_type": "code",
   "execution_count": 3,
   "outputs": [
    {
     "name": "stderr",
     "output_type": "stream",
     "text": [
      "'nvidia-smi' is not recognized as an internal or external command,\n",
      "operable program or batch file.\n"
     ]
    }
   ],
   "source": [
    "# Kiểm tra xem colab đã sử dụng GPU chưa\n",
    "!nvidia-smi"
   ],
   "metadata": {
    "collapsed": false,
    "pycharm": {
     "name": "#%%\n"
    }
   }
  },
  {
   "cell_type": "code",
   "execution_count": null,
   "outputs": [],
   "source": [],
   "metadata": {
    "collapsed": false,
    "pycharm": {
     "name": "#%%\n"
    }
   }
  },
  {
   "cell_type": "code",
   "source": [
    "# Click vào biểu tượng mount Drive ở thanh điều hướng bên trái để kết nối với drive của mình\n",
    "# Đôi lúc không có biểu tượng đó thì phải chạy hai lệnh dưới để kết nối\n",
    "\n",
    "from google.colab import drive\n",
    "drive.mount('/content/drive')"
   ],
   "metadata": {
    "id": "dnWynFXPvqus"
   },
   "execution_count": 2,
   "outputs": [
    {
     "ename": "ModuleNotFoundError",
     "evalue": "No module named 'google.colab'",
     "output_type": "error",
     "traceback": [
      "\u001B[1;31m---------------------------------------------------------------------------\u001B[0m",
      "\u001B[1;31mModuleNotFoundError\u001B[0m                       Traceback (most recent call last)",
      "Input \u001B[1;32mIn [2]\u001B[0m, in \u001B[0;36m<cell line: 4>\u001B[1;34m()\u001B[0m\n\u001B[0;32m      1\u001B[0m \u001B[38;5;66;03m# Click vào biểu tượng mount Drive ở thanh điều hướng bên trái để kết nối với drive của mình\u001B[39;00m\n\u001B[0;32m      2\u001B[0m \u001B[38;5;66;03m# Đôi lúc không có biểu tượng đó thì phải chạy hai lệnh dưới để kết nối\u001B[39;00m\n\u001B[1;32m----> 4\u001B[0m \u001B[38;5;28;01mfrom\u001B[39;00m \u001B[38;5;21;01mgoogle\u001B[39;00m\u001B[38;5;21;01m.\u001B[39;00m\u001B[38;5;21;01mcolab\u001B[39;00m \u001B[38;5;28;01mimport\u001B[39;00m drive\n\u001B[0;32m      5\u001B[0m drive\u001B[38;5;241m.\u001B[39mmount(\u001B[38;5;124m'\u001B[39m\u001B[38;5;124m/content/drive\u001B[39m\u001B[38;5;124m'\u001B[39m)\n",
      "\u001B[1;31mModuleNotFoundError\u001B[0m: No module named 'google.colab'"
     ]
    }
   ]
  },
  {
   "cell_type": "code",
   "source": [
    "# Nên tạo một thư mục chứa code và model ở drive của mình\n",
    "# Ở đây mình tạo trước một thư mục chứa code và model ở địa chỉ /content/drive/MyDrive/qag_pegasus/\n",
    "# Cần di chuyển đến thư mục đó, từ đoạn này trở đi, mọi thác tác sẽ được thực hiện ở thư mục đó"
   ],
   "metadata": {
    "id": "TUlwBqbYwIy8"
   },
   "execution_count": 3,
   "outputs": []
  },
  {
   "cell_type": "code",
   "source": [
    "cd /content/drive/MyDrive/qag_pegasus/"
   ],
   "metadata": {
    "colab": {
     "base_uri": "https://localhost:8080/"
    },
    "id": "HtNzMRFkwXgr",
    "outputId": "f2efb177-03fb-4dc7-bbcb-984a0081b62f"
   },
   "execution_count": 4,
   "outputs": [
    {
     "output_type": "stream",
     "name": "stdout",
     "text": [
      "/content/drive/MyDrive/VNPT/qag_pegasus\n"
     ]
    }
   ]
  },
  {
   "cell_type": "markdown",
   "source": [
    "**Cấu trúc thư mục qag_pegasus ở goolde driver của mình sẽ như sau:**\n",
    "```\n",
    "qag_pegasus/\n",
    "    - mounts/        #Thư mục này để chứa mọi thứ như dữ liệu, model, ...\n",
    "        - models/\n",
    "            - pegasus-xsum/          #Thư mục cache để lưu pegasus-xsum\n",
    "            - qag_pegasus_mrl_model/ #thư mục chứ model sau khi finetune xong\n",
    "        - data/                      #Thư mục chứa các file dữ liệu\n",
    "            - MCQ_Squad_MRL.csv\n",
    "    - qag_pegasus/                   #Thư mục chứa các file code.py\n",
    "        - __init__.py\n",
    "        - min_ref_loss_model.py\n",
    "        - run_train.py\n",
    "        - training_agruments.py\n",
    "        - mydatasets.py\n",
    "    - requirements.txt\n",
    "    - setup.py\n",
    "```"
   ],
   "metadata": {
    "id": "04RhCEX-wt6W"
   }
  },
  {
   "cell_type": "code",
   "source": [
    "# Cài đặt các thư viện cần thiết và cài đặt project package\n",
    "!pip --quiet install -r requirements.txt\n",
    "!pip --quiet install -e ."
   ],
   "metadata": {
    "id": "fsg-Vj1WwXjc"
   },
   "execution_count": null,
   "outputs": []
  },
  {
   "cell_type": "markdown",
   "source": [
    "---\n",
    "### Training"
   ],
   "metadata": {
    "id": "oXT3e6iLy55q"
   }
  },
  {
   "cell_type": "code",
   "execution_count": null,
   "outputs": [],
   "source": [
    "# import os\n",
    "# os.environ[\"TOKENIZERS_PARALLELISM\"] = \"false\""
   ],
   "metadata": {
    "collapsed": false,
    "pycharm": {
     "name": "#%%\n"
    }
   }
  },
  {
   "cell_type": "code",
   "source": [
    "!python qag_pegasus/run_train.py \\\n",
    "    --model_name_or_path google/pegasus-xsum \\\n",
    "    --cache_dir mounts/models/pegasus-xsum \\\n",
    "    --output_dir mounts/models/qag_pegasus_mrl_model \\\n",
    "    --train_file mounts/data/MCQ_Squad_MRL.csv \\\n",
    "    --push_to_hub=True \\\n",
    "    --source_max_token_len 256 \\\n",
    "    --target_max_token_len 64 \\\n",
    "    --num_train_epochs 1 \\\n",
    "    --per_device_train_batch_size 2 \\\n",
    "    --save_steps 100000000 \\\n",
    "    --logging_steps 100 \\\n",
    "    --save_total_limit 1 \\\n",
    "    --warmup_steps=150 \\\n",
    "    --weight_decay=0.1 \\\n",
    "    --learning_rate=0.00005\n",
    "\n"
   ],
   "metadata": {
    "colab": {
     "base_uri": "https://localhost:8080/"
    },
    "id": "h_VfPgpgwtQ_",
    "outputId": "f8fe8178-d72b-4e10-b300-29537ef73fea"
   },
   "execution_count": null,
   "outputs": [
    {
     "output_type": "stream",
     "name": "stdout",
     "text": [
      "/usr/local/lib/python3.7/dist-packages/transformers/optimization.py:309: FutureWarning: This implementation of AdamW is deprecated and will be removed in a future version. Use the PyTorch implementation torch.optim.AdamW instead, or set `no_deprecation_warning=True` to disable this warning\n",
      "  FutureWarning,\n",
      "***** Running training *****\n",
      "  Num examples = 12188\n",
      "  Num Epochs = 1\n",
      "  Instantaneous batch size per device = 2\n",
      "  Total train batch size (w. parallel, distributed & accumulation) = 2\n",
      "  Gradient Accumulation steps = 1\n",
      "  Total optimization steps = 6094\n",
      "{'loss': 3.9153, 'learning_rate': 3.3333333333333335e-05, 'epoch': 0.02}\n",
      "{'loss': 2.5025, 'learning_rate': 4.957940780619112e-05, 'epoch': 0.03}\n",
      "{'loss': 1.884, 'learning_rate': 4.8738223418573355e-05, 'epoch': 0.05}\n",
      "{'loss': 1.8276, 'learning_rate': 4.789703903095559e-05, 'epoch': 0.07}\n",
      "{'loss': 1.7711, 'learning_rate': 4.705585464333782e-05, 'epoch': 0.08}\n",
      "{'loss': 1.5458, 'learning_rate': 4.6214670255720054e-05, 'epoch': 0.1}\n",
      "{'loss': 1.4065, 'learning_rate': 4.537348586810229e-05, 'epoch': 0.11}\n",
      "{'loss': 1.1313, 'learning_rate': 4.4532301480484525e-05, 'epoch': 0.13}\n",
      "{'loss': 1.0906, 'learning_rate': 4.369111709286676e-05, 'epoch': 0.15}\n",
      "{'loss': 1.1461, 'learning_rate': 4.284993270524899e-05, 'epoch': 0.16}\n",
      " 18% 1081/6094 [16:19<1:15:23,  1.11it/s]"
     ]
    }
   ]
  },
  {
   "cell_type": "code",
   "source": [],
   "metadata": {
    "id": "Z3nSoAvw2Pb6"
   },
   "execution_count": null,
   "outputs": []
  },
  {
   "cell_type": "markdown",
   "source": [
    "---\n",
    "### Test"
   ],
   "metadata": {
    "id": "AE3I-9wUzAox"
   }
  },
  {
   "cell_type": "code",
   "execution_count": null,
   "outputs": [],
   "source": [
    "from qag_pegasus import QAGPegasus\n",
    "\n",
    "qag = QAGPegasus(model_name_or_path=\"mounts/models/qag_pegasus_mrl_model\")"
   ],
   "metadata": {
    "collapsed": false,
    "pycharm": {
     "name": "#%%\n"
    }
   }
  },
  {
   "cell_type": "code",
   "execution_count": null,
   "outputs": [],
   "source": [
    "context = '''President Joe Biden ordered airstrikes against Iranian-backed groups in Syria on Tuesday, a little over a week after a number of rockets struck near a military base in northeastern Syria housing US troops. The airstrikes conducted by the US military targeted Iranian-backed groups in Deir ez-Zor Syria, US Central Command said in a statement. The strikes targeted \"infrastructure facilities used by groups affiliated with Iran's Islamic Revolutionary Guard Corps,\" Col. Joe Buccino, a spokesman for CENTCOM, said in the statement. \"At President Biden's direction, US military forces conducted precision airstrikes in Deir ez-Zor Syria today. These precision strikes are intended to defend and protect US forces from attacks like the ones on August 15 against US personnel by Iran-backed groups,\" he said, referring to last week's attacks on the Green Village base near the Iraqi border. The incident did not result in damage or injuries.\n",
    "'''"
   ],
   "metadata": {
    "collapsed": false,
    "pycharm": {
     "name": "#%%\n"
    }
   }
  },
  {
   "cell_type": "code",
   "execution_count": null,
   "outputs": [],
   "source": [
    "len(context.split(' '))"
   ],
   "metadata": {
    "collapsed": false,
    "pycharm": {
     "name": "#%%\n"
    }
   }
  },
  {
   "cell_type": "code",
   "source": [
    "outputs = qag.generate_qa(context,\n",
    "                          num_return_sequences=4,\n",
    "                          max_length=64,\n",
    "                          do_sample=True,\n",
    "                          top_k=6,\n",
    "                          top_p=0.9,\n",
    "                          temperature=0.7,\n",
    "                          no_repeat_ngram_size=2,\n",
    "                          early_stopping=True\n",
    "                          )\n",
    "for sequence in outputs:\n",
    "    print(sequence)\n"
   ],
   "metadata": {
    "id": "0iOjGHz6wtYz"
   },
   "execution_count": null,
   "outputs": []
  },
  {
   "cell_type": "code",
   "source": [
    ""
   ],
   "metadata": {
    "id": "zqn9vywdwtbX"
   },
   "execution_count": null,
   "outputs": []
  }
 ]
}